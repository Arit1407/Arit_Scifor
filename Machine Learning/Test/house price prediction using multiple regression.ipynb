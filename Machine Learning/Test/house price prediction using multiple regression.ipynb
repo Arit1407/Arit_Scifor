{
 "cells": [
  {
   "cell_type": "markdown",
   "id": "7cb43984",
   "metadata": {},
   "source": [
    "# Import Libraries "
   ]
  },
  {
   "cell_type": "code",
   "execution_count": 1,
   "id": "c3ca74f2",
   "metadata": {},
   "outputs": [
    {
     "name": "stderr",
     "output_type": "stream",
     "text": [
      "C:\\ProgramData\\Anaconda3\\lib\\site-packages\\scipy\\__init__.py:155: UserWarning: A NumPy version >=1.18.5 and <1.25.0 is required for this version of SciPy (detected version 1.26.4\n",
      "  warnings.warn(f\"A NumPy version >={np_minversion} and <{np_maxversion}\"\n"
     ]
    }
   ],
   "source": [
    "import numpy as np\n",
    "import pandas as pd\n",
    "import matplotlib.pyplot as plt \n",
    "import seaborn as sns \n",
    "from sklearn.model_selection import train_test_split\n"
   ]
  },
  {
   "cell_type": "code",
   "execution_count": 2,
   "id": "5a984226",
   "metadata": {},
   "outputs": [
    {
     "data": {
      "text/html": [
       "<div>\n",
       "<style scoped>\n",
       "    .dataframe tbody tr th:only-of-type {\n",
       "        vertical-align: middle;\n",
       "    }\n",
       "\n",
       "    .dataframe tbody tr th {\n",
       "        vertical-align: top;\n",
       "    }\n",
       "\n",
       "    .dataframe thead th {\n",
       "        text-align: right;\n",
       "    }\n",
       "</style>\n",
       "<table border=\"1\" class=\"dataframe\">\n",
       "  <thead>\n",
       "    <tr style=\"text-align: right;\">\n",
       "      <th></th>\n",
       "      <th>SquareFeet</th>\n",
       "      <th>Bedrooms</th>\n",
       "      <th>Bathrooms</th>\n",
       "      <th>Neighborhood</th>\n",
       "      <th>YearBuilt</th>\n",
       "      <th>Price</th>\n",
       "    </tr>\n",
       "  </thead>\n",
       "  <tbody>\n",
       "    <tr>\n",
       "      <th>0</th>\n",
       "      <td>2126</td>\n",
       "      <td>4</td>\n",
       "      <td>1</td>\n",
       "      <td>Rural</td>\n",
       "      <td>1969</td>\n",
       "      <td>215355.283618</td>\n",
       "    </tr>\n",
       "    <tr>\n",
       "      <th>1</th>\n",
       "      <td>2459</td>\n",
       "      <td>3</td>\n",
       "      <td>2</td>\n",
       "      <td>Rural</td>\n",
       "      <td>1980</td>\n",
       "      <td>195014.221626</td>\n",
       "    </tr>\n",
       "    <tr>\n",
       "      <th>2</th>\n",
       "      <td>1860</td>\n",
       "      <td>2</td>\n",
       "      <td>1</td>\n",
       "      <td>Suburb</td>\n",
       "      <td>1970</td>\n",
       "      <td>306891.012076</td>\n",
       "    </tr>\n",
       "    <tr>\n",
       "      <th>3</th>\n",
       "      <td>2294</td>\n",
       "      <td>2</td>\n",
       "      <td>1</td>\n",
       "      <td>Urban</td>\n",
       "      <td>1996</td>\n",
       "      <td>206786.787153</td>\n",
       "    </tr>\n",
       "    <tr>\n",
       "      <th>4</th>\n",
       "      <td>2130</td>\n",
       "      <td>5</td>\n",
       "      <td>2</td>\n",
       "      <td>Suburb</td>\n",
       "      <td>2001</td>\n",
       "      <td>272436.239065</td>\n",
       "    </tr>\n",
       "  </tbody>\n",
       "</table>\n",
       "</div>"
      ],
      "text/plain": [
       "   SquareFeet  Bedrooms  Bathrooms Neighborhood  YearBuilt          Price\n",
       "0        2126         4          1        Rural       1969  215355.283618\n",
       "1        2459         3          2        Rural       1980  195014.221626\n",
       "2        1860         2          1       Suburb       1970  306891.012076\n",
       "3        2294         2          1        Urban       1996  206786.787153\n",
       "4        2130         5          2       Suburb       2001  272436.239065"
      ]
     },
     "execution_count": 2,
     "metadata": {},
     "output_type": "execute_result"
    }
   ],
   "source": [
    "data=pd.read_csv(\"housing_price_dataset.csv\")\n",
    "data.head()"
   ]
  },
  {
   "cell_type": "code",
   "execution_count": 3,
   "id": "3f269079",
   "metadata": {},
   "outputs": [
    {
     "data": {
      "text/html": [
       "<div>\n",
       "<style scoped>\n",
       "    .dataframe tbody tr th:only-of-type {\n",
       "        vertical-align: middle;\n",
       "    }\n",
       "\n",
       "    .dataframe tbody tr th {\n",
       "        vertical-align: top;\n",
       "    }\n",
       "\n",
       "    .dataframe thead th {\n",
       "        text-align: right;\n",
       "    }\n",
       "</style>\n",
       "<table border=\"1\" class=\"dataframe\">\n",
       "  <thead>\n",
       "    <tr style=\"text-align: right;\">\n",
       "      <th></th>\n",
       "      <th>SquareFeet</th>\n",
       "      <th>Bedrooms</th>\n",
       "      <th>Bathrooms</th>\n",
       "      <th>Neighborhood</th>\n",
       "      <th>YearBuilt</th>\n",
       "      <th>Price</th>\n",
       "    </tr>\n",
       "  </thead>\n",
       "  <tbody>\n",
       "    <tr>\n",
       "      <th>49995</th>\n",
       "      <td>1282</td>\n",
       "      <td>5</td>\n",
       "      <td>3</td>\n",
       "      <td>Rural</td>\n",
       "      <td>1975</td>\n",
       "      <td>100080.865895</td>\n",
       "    </tr>\n",
       "    <tr>\n",
       "      <th>49996</th>\n",
       "      <td>2854</td>\n",
       "      <td>2</td>\n",
       "      <td>2</td>\n",
       "      <td>Suburb</td>\n",
       "      <td>1988</td>\n",
       "      <td>374507.656727</td>\n",
       "    </tr>\n",
       "    <tr>\n",
       "      <th>49997</th>\n",
       "      <td>2979</td>\n",
       "      <td>5</td>\n",
       "      <td>3</td>\n",
       "      <td>Suburb</td>\n",
       "      <td>1962</td>\n",
       "      <td>384110.555590</td>\n",
       "    </tr>\n",
       "    <tr>\n",
       "      <th>49998</th>\n",
       "      <td>2596</td>\n",
       "      <td>5</td>\n",
       "      <td>2</td>\n",
       "      <td>Rural</td>\n",
       "      <td>1984</td>\n",
       "      <td>380512.685957</td>\n",
       "    </tr>\n",
       "    <tr>\n",
       "      <th>49999</th>\n",
       "      <td>1572</td>\n",
       "      <td>5</td>\n",
       "      <td>3</td>\n",
       "      <td>Rural</td>\n",
       "      <td>2011</td>\n",
       "      <td>221618.583218</td>\n",
       "    </tr>\n",
       "  </tbody>\n",
       "</table>\n",
       "</div>"
      ],
      "text/plain": [
       "       SquareFeet  Bedrooms  Bathrooms Neighborhood  YearBuilt          Price\n",
       "49995        1282         5          3        Rural       1975  100080.865895\n",
       "49996        2854         2          2       Suburb       1988  374507.656727\n",
       "49997        2979         5          3       Suburb       1962  384110.555590\n",
       "49998        2596         5          2        Rural       1984  380512.685957\n",
       "49999        1572         5          3        Rural       2011  221618.583218"
      ]
     },
     "execution_count": 3,
     "metadata": {},
     "output_type": "execute_result"
    }
   ],
   "source": [
    "data.tail()"
   ]
  },
  {
   "cell_type": "code",
   "execution_count": 4,
   "id": "36f78e3c",
   "metadata": {},
   "outputs": [],
   "source": [
    "df=data.sample(frac=0.25)\n"
   ]
  },
  {
   "cell_type": "code",
   "execution_count": 5,
   "id": "4ed4856b",
   "metadata": {},
   "outputs": [
    {
     "data": {
      "text/plain": [
       "(12500, 6)"
      ]
     },
     "execution_count": 5,
     "metadata": {},
     "output_type": "execute_result"
    }
   ],
   "source": [
    "df.shape"
   ]
  },
  {
   "cell_type": "markdown",
   "id": "256648e1",
   "metadata": {},
   "source": [
    "# Data Preprocessing"
   ]
  },
  {
   "cell_type": "code",
   "execution_count": 6,
   "id": "6d0069a0",
   "metadata": {},
   "outputs": [
    {
     "name": "stdout",
     "output_type": "stream",
     "text": [
      "<class 'pandas.core.frame.DataFrame'>\n",
      "Int64Index: 12500 entries, 24176 to 42594\n",
      "Data columns (total 6 columns):\n",
      " #   Column        Non-Null Count  Dtype  \n",
      "---  ------        --------------  -----  \n",
      " 0   SquareFeet    12500 non-null  int64  \n",
      " 1   Bedrooms      12500 non-null  int64  \n",
      " 2   Bathrooms     12500 non-null  int64  \n",
      " 3   Neighborhood  12500 non-null  object \n",
      " 4   YearBuilt     12500 non-null  int64  \n",
      " 5   Price         12500 non-null  float64\n",
      "dtypes: float64(1), int64(4), object(1)\n",
      "memory usage: 683.6+ KB\n"
     ]
    }
   ],
   "source": [
    "df.info()"
   ]
  },
  {
   "cell_type": "code",
   "execution_count": 7,
   "id": "b4fed765",
   "metadata": {},
   "outputs": [
    {
     "data": {
      "text/plain": [
       "(12500, 6)"
      ]
     },
     "execution_count": 7,
     "metadata": {},
     "output_type": "execute_result"
    }
   ],
   "source": [
    "df.shape"
   ]
  },
  {
   "cell_type": "code",
   "execution_count": 8,
   "id": "99f66aac",
   "metadata": {},
   "outputs": [
    {
     "data": {
      "text/html": [
       "<div>\n",
       "<style scoped>\n",
       "    .dataframe tbody tr th:only-of-type {\n",
       "        vertical-align: middle;\n",
       "    }\n",
       "\n",
       "    .dataframe tbody tr th {\n",
       "        vertical-align: top;\n",
       "    }\n",
       "\n",
       "    .dataframe thead th {\n",
       "        text-align: right;\n",
       "    }\n",
       "</style>\n",
       "<table border=\"1\" class=\"dataframe\">\n",
       "  <thead>\n",
       "    <tr style=\"text-align: right;\">\n",
       "      <th></th>\n",
       "      <th>SquareFeet</th>\n",
       "      <th>Bedrooms</th>\n",
       "      <th>Bathrooms</th>\n",
       "      <th>YearBuilt</th>\n",
       "      <th>Price</th>\n",
       "    </tr>\n",
       "  </thead>\n",
       "  <tbody>\n",
       "    <tr>\n",
       "      <th>count</th>\n",
       "      <td>12500.000000</td>\n",
       "      <td>12500.000000</td>\n",
       "      <td>12500.00000</td>\n",
       "      <td>12500.000000</td>\n",
       "      <td>12500.000000</td>\n",
       "    </tr>\n",
       "    <tr>\n",
       "      <th>mean</th>\n",
       "      <td>2005.938560</td>\n",
       "      <td>3.482960</td>\n",
       "      <td>2.00104</td>\n",
       "      <td>1985.162720</td>\n",
       "      <td>224952.038026</td>\n",
       "    </tr>\n",
       "    <tr>\n",
       "      <th>std</th>\n",
       "      <td>574.217217</td>\n",
       "      <td>1.115585</td>\n",
       "      <td>0.81661</td>\n",
       "      <td>20.788153</td>\n",
       "      <td>76063.620917</td>\n",
       "    </tr>\n",
       "    <tr>\n",
       "      <th>min</th>\n",
       "      <td>1000.000000</td>\n",
       "      <td>2.000000</td>\n",
       "      <td>1.00000</td>\n",
       "      <td>1950.000000</td>\n",
       "      <td>-28774.998022</td>\n",
       "    </tr>\n",
       "    <tr>\n",
       "      <th>25%</th>\n",
       "      <td>1512.000000</td>\n",
       "      <td>2.000000</td>\n",
       "      <td>1.00000</td>\n",
       "      <td>1967.000000</td>\n",
       "      <td>171363.882616</td>\n",
       "    </tr>\n",
       "    <tr>\n",
       "      <th>50%</th>\n",
       "      <td>2013.000000</td>\n",
       "      <td>3.000000</td>\n",
       "      <td>2.00000</td>\n",
       "      <td>1985.000000</td>\n",
       "      <td>224668.830061</td>\n",
       "    </tr>\n",
       "    <tr>\n",
       "      <th>75%</th>\n",
       "      <td>2499.000000</td>\n",
       "      <td>4.000000</td>\n",
       "      <td>3.00000</td>\n",
       "      <td>2003.000000</td>\n",
       "      <td>278848.602738</td>\n",
       "    </tr>\n",
       "    <tr>\n",
       "      <th>max</th>\n",
       "      <td>2999.000000</td>\n",
       "      <td>5.000000</td>\n",
       "      <td>3.00000</td>\n",
       "      <td>2021.000000</td>\n",
       "      <td>476671.733263</td>\n",
       "    </tr>\n",
       "  </tbody>\n",
       "</table>\n",
       "</div>"
      ],
      "text/plain": [
       "         SquareFeet      Bedrooms    Bathrooms     YearBuilt          Price\n",
       "count  12500.000000  12500.000000  12500.00000  12500.000000   12500.000000\n",
       "mean    2005.938560      3.482960      2.00104   1985.162720  224952.038026\n",
       "std      574.217217      1.115585      0.81661     20.788153   76063.620917\n",
       "min     1000.000000      2.000000      1.00000   1950.000000  -28774.998022\n",
       "25%     1512.000000      2.000000      1.00000   1967.000000  171363.882616\n",
       "50%     2013.000000      3.000000      2.00000   1985.000000  224668.830061\n",
       "75%     2499.000000      4.000000      3.00000   2003.000000  278848.602738\n",
       "max     2999.000000      5.000000      3.00000   2021.000000  476671.733263"
      ]
     },
     "execution_count": 8,
     "metadata": {},
     "output_type": "execute_result"
    }
   ],
   "source": [
    "df.describe()"
   ]
  },
  {
   "cell_type": "code",
   "execution_count": 9,
   "id": "257973b4",
   "metadata": {},
   "outputs": [
    {
     "data": {
      "text/html": [
       "<div>\n",
       "<style scoped>\n",
       "    .dataframe tbody tr th:only-of-type {\n",
       "        vertical-align: middle;\n",
       "    }\n",
       "\n",
       "    .dataframe tbody tr th {\n",
       "        vertical-align: top;\n",
       "    }\n",
       "\n",
       "    .dataframe thead th {\n",
       "        text-align: right;\n",
       "    }\n",
       "</style>\n",
       "<table border=\"1\" class=\"dataframe\">\n",
       "  <thead>\n",
       "    <tr style=\"text-align: right;\">\n",
       "      <th></th>\n",
       "      <th>SquareFeet</th>\n",
       "      <th>Bedrooms</th>\n",
       "      <th>Bathrooms</th>\n",
       "      <th>YearBuilt</th>\n",
       "      <th>Price</th>\n",
       "    </tr>\n",
       "  </thead>\n",
       "  <tbody>\n",
       "    <tr>\n",
       "      <th>SquareFeet</th>\n",
       "      <td>1.000000</td>\n",
       "      <td>-0.015414</td>\n",
       "      <td>-0.005962</td>\n",
       "      <td>0.003361</td>\n",
       "      <td>0.750700</td>\n",
       "    </tr>\n",
       "    <tr>\n",
       "      <th>Bedrooms</th>\n",
       "      <td>-0.015414</td>\n",
       "      <td>1.000000</td>\n",
       "      <td>0.014905</td>\n",
       "      <td>0.000409</td>\n",
       "      <td>0.065673</td>\n",
       "    </tr>\n",
       "    <tr>\n",
       "      <th>Bathrooms</th>\n",
       "      <td>-0.005962</td>\n",
       "      <td>0.014905</td>\n",
       "      <td>1.000000</td>\n",
       "      <td>0.003270</td>\n",
       "      <td>0.026751</td>\n",
       "    </tr>\n",
       "    <tr>\n",
       "      <th>YearBuilt</th>\n",
       "      <td>0.003361</td>\n",
       "      <td>0.000409</td>\n",
       "      <td>0.003270</td>\n",
       "      <td>1.000000</td>\n",
       "      <td>-0.001794</td>\n",
       "    </tr>\n",
       "    <tr>\n",
       "      <th>Price</th>\n",
       "      <td>0.750700</td>\n",
       "      <td>0.065673</td>\n",
       "      <td>0.026751</td>\n",
       "      <td>-0.001794</td>\n",
       "      <td>1.000000</td>\n",
       "    </tr>\n",
       "  </tbody>\n",
       "</table>\n",
       "</div>"
      ],
      "text/plain": [
       "            SquareFeet  Bedrooms  Bathrooms  YearBuilt     Price\n",
       "SquareFeet    1.000000 -0.015414  -0.005962   0.003361  0.750700\n",
       "Bedrooms     -0.015414  1.000000   0.014905   0.000409  0.065673\n",
       "Bathrooms    -0.005962  0.014905   1.000000   0.003270  0.026751\n",
       "YearBuilt     0.003361  0.000409   0.003270   1.000000 -0.001794\n",
       "Price         0.750700  0.065673   0.026751  -0.001794  1.000000"
      ]
     },
     "execution_count": 9,
     "metadata": {},
     "output_type": "execute_result"
    }
   ],
   "source": [
    "df.corr()"
   ]
  },
  {
   "cell_type": "code",
   "execution_count": 10,
   "id": "fd02fd5b",
   "metadata": {},
   "outputs": [
    {
     "data": {
      "text/plain": [
       "SquareFeet      0\n",
       "Bedrooms        0\n",
       "Bathrooms       0\n",
       "Neighborhood    0\n",
       "YearBuilt       0\n",
       "Price           0\n",
       "dtype: int64"
      ]
     },
     "execution_count": 10,
     "metadata": {},
     "output_type": "execute_result"
    }
   ],
   "source": [
    "df.isnull().sum()"
   ]
  },
  {
   "cell_type": "code",
   "execution_count": 11,
   "id": "6b1a681d",
   "metadata": {},
   "outputs": [
    {
     "data": {
      "text/plain": [
       "SquareFeet      0\n",
       "Bedrooms        0\n",
       "Bathrooms       0\n",
       "Neighborhood    0\n",
       "YearBuilt       0\n",
       "Price           0\n",
       "dtype: int64"
      ]
     },
     "execution_count": 11,
     "metadata": {},
     "output_type": "execute_result"
    }
   ],
   "source": [
    "df.isna().sum()"
   ]
  },
  {
   "cell_type": "markdown",
   "id": "01e361ff",
   "metadata": {},
   "source": [
    "# Regression Model "
   ]
  },
  {
   "cell_type": "code",
   "execution_count": 12,
   "id": "ce13c96d",
   "metadata": {},
   "outputs": [],
   "source": [
    "X=df.drop([\"Neighborhood\",\"Price\"],axis=1).values\n",
    "y=df[\"Price\"].values"
   ]
  },
  {
   "cell_type": "code",
   "execution_count": 13,
   "id": "c53098a1",
   "metadata": {},
   "outputs": [
    {
     "name": "stdout",
     "output_type": "stream",
     "text": [
      "[[2735    5    1 1953]\n",
      " [2564    4    1 1959]\n",
      " [1412    2    2 1966]\n",
      " ...\n",
      " [1544    2    2 1955]\n",
      " [1878    3    1 1985]\n",
      " [2499    3    3 1976]]\n"
     ]
    }
   ],
   "source": [
    "print(X)"
   ]
  },
  {
   "cell_type": "code",
   "execution_count": 14,
   "id": "1d6a3695",
   "metadata": {},
   "outputs": [
    {
     "name": "stdout",
     "output_type": "stream",
     "text": [
      "[256587.11233009 267047.9885181  170685.99402431 ... 284363.07711943\n",
      " 187819.15424556 197798.05537676]\n"
     ]
    }
   ],
   "source": [
    "print(y)"
   ]
  },
  {
   "cell_type": "code",
   "execution_count": 15,
   "id": "8c3d8b93",
   "metadata": {},
   "outputs": [],
   "source": [
    "# Splitting the data into training and testing sets\n",
    "X_train, X_test, y_train, y_test = train_test_split(X, y, test_size=0.2, random_state=42)"
   ]
  },
  {
   "cell_type": "code",
   "execution_count": 16,
   "id": "816c16fb",
   "metadata": {},
   "outputs": [],
   "source": [
    "# Adding a column of ones for the intercept term\n",
    "X_train = np.hstack((np.ones_like(X_train), X_train))\n",
    "X_test = np.hstack((np.ones_like(X_test), X_test))\n"
   ]
  },
  {
   "cell_type": "code",
   "execution_count": 17,
   "id": "9a5113eb",
   "metadata": {},
   "outputs": [
    {
     "name": "stdout",
     "output_type": "stream",
     "text": [
      "[[   1    1    1 ...    5    3 1995]\n",
      " [   1    1    1 ...    2    1 2020]\n",
      " [   1    1    1 ...    3    1 2011]\n",
      " ...\n",
      " [   1    1    1 ...    4    2 2021]\n",
      " [   1    1    1 ...    2    2 1978]\n",
      " [   1    1    1 ...    2    3 1969]]\n"
     ]
    }
   ],
   "source": [
    "print(X_train)"
   ]
  },
  {
   "cell_type": "code",
   "execution_count": 18,
   "id": "3b7ba704",
   "metadata": {},
   "outputs": [],
   "source": [
    "def prediction(X, weights):\n",
    "    return np.dot(X, weights)"
   ]
  },
  {
   "cell_type": "code",
   "execution_count": 19,
   "id": "60f68607",
   "metadata": {},
   "outputs": [],
   "source": [
    "def compute_cost(X, y, weights):\n",
    "    m = len(y)\n",
    "    error = prediction(X, weights) - y\n",
    "    cost = np.dot(error.T, error)/(2*m)\n",
    "    return cost"
   ]
  },
  {
   "cell_type": "code",
   "execution_count": 20,
   "id": "c39b02b2",
   "metadata": {},
   "outputs": [],
   "source": [
    "def gradient_descent(X, y,learning_rate, epochs):\n",
    "    print(f\"Shape of X = {X.shape}\")\n",
    "    print(f\"Shape of y = {y.shape}\")\n",
    "    m,n=X.shape\n",
    "    weights=np.zeros(n)\n",
    "    costs=[]\n",
    "    for i in range(epochs):\n",
    "        predictions = prediction(X, weights)\n",
    "        error = predictions - y\n",
    "        print(error.shape)\n",
    "        print(error)\n",
    "        gradient = np.dot(X.T, error) / m\n",
    "        weights-=learning_rate * gradient\n",
    "        cost=compute_cost(X, y,weights)\n",
    "        costs.append(cost)\n",
    "    \n",
    "    return weights,costs"
   ]
  },
  {
   "cell_type": "code",
   "execution_count": 21,
   "id": "aca6eb8a",
   "metadata": {},
   "outputs": [
    {
     "name": "stdout",
     "output_type": "stream",
     "text": [
      "Shape of X = (10000, 8)\n",
      "Shape of y = (10000,)\n",
      "(10000,)\n",
      "[-413360.73515668 -270577.4789176  -219575.47064866 ... -197521.82717092\n",
      " -288741.17238119 -152558.92367444]\n",
      "(10000,)\n",
      "[1818198.94095342 1595855.01929583 1830740.96037699 ... 2045169.05949655\n",
      " 1963866.28286131 1338096.29804742]\n",
      "(10000,)\n",
      "[-14111689.3283089  -11764235.01193068 -12823915.1361188  ...\n",
      " -13965852.18388234 -14112535.16706264  -9369238.624813  ]\n",
      "(10000,)\n",
      "[9.98787816e+07 8.38064789e+07 9.20256478e+07 ... 1.00603776e+08\n",
      " 1.00929498e+08 6.71939427e+07]\n",
      "(10000,)\n",
      "[-7.15577346e+08 -5.99905814e+08 -6.58052130e+08 ... -7.18996669e+08\n",
      " -7.22046567e+08 -4.80564817e+08]\n",
      "(10000,)\n",
      "[5.11816449e+09 4.29132382e+09 4.70796442e+09 ... 5.14439245e+09\n",
      " 5.16549484e+09 3.43804074e+09]\n",
      "(10000,)\n",
      "[-3.66160362e+10 -3.07002257e+10 -3.36801700e+10 ... -3.68019038e+10\n",
      " -3.69535825e+10 -2.45954358e+10]\n",
      "(10000,)\n",
      "[2.61947795e+11 2.19627091e+11 2.40946108e+11 ... 2.63279245e+11\n",
      " 2.64363634e+11 1.75954254e+11]\n",
      "(10000,)\n",
      "[-1.87395885e+12 -1.57119861e+12 -1.72371281e+12 ... -1.88348219e+12\n",
      " -1.89124055e+12 -1.25876548e+12]\n",
      "(10000,)\n",
      "[1.34061814e+13 1.12402545e+13 1.23313321e+13 ... 1.34743126e+13\n",
      " 1.35298147e+13 9.00512824e+12]\n",
      "(10000,)\n",
      "[-9.59069700e+13 -8.04120662e+13 -8.82175651e+13 ... -9.63943743e+13\n",
      " -9.67914334e+13 -6.44221146e+13]\n",
      "(10000,)\n",
      "[6.86112362e+14 5.75262806e+14 6.31102849e+14 ... 6.89599223e+14\n",
      " 6.92439757e+14 4.60871710e+14]\n",
      "(10000,)\n",
      "[-4.90840419e+15 -4.11539352e+15 -4.51486964e+15 ... -4.93334897e+15\n",
      " -4.95366997e+15 -3.29704689e+15]\n",
      "(10000,)\n",
      "[3.51144113e+16 2.94412635e+16 3.22990902e+16 ... 3.52928647e+16\n",
      " 3.54382399e+16 2.35868637e+16]\n",
      "(10000,)\n",
      "[-2.51206265e+17 -2.10620926e+17 -2.31065636e+17 ... -2.52482909e+17\n",
      " -2.53522914e+17 -1.68738923e+17]\n",
      "(10000,)\n",
      "[1.79711364e+18 1.50676871e+18 1.65302886e+18 ... 1.80624667e+18\n",
      " 1.81368680e+18 1.20714752e+18]\n",
      "(10000,)\n",
      "[-1.28564367e+19 -1.07793275e+19 -1.18256633e+19 ... -1.29217738e+19\n",
      " -1.29750000e+19 -8.63585656e+18]\n",
      "(10000,)\n",
      "[9.19741300e+19 7.71146230e+19 8.46000433e+19 ... 9.24415476e+19\n",
      " 9.28223245e+19 6.17803685e+19]\n",
      "(10000,)\n",
      "[-6.57977076e+20 -5.51673108e+20 -6.05223328e+20 ... -6.61320951e+20\n",
      " -6.64045004e+20 -4.41972826e+20]\n",
      "(10000,)\n",
      "[4.70712614e+21 3.94663432e+21 4.32972919e+21 ... 4.73104802e+21\n",
      " 4.75053572e+21 3.16184548e+21]\n",
      "(10000,)\n",
      "[-3.36744810e+22 -2.82339709e+22 -3.09746072e+22 ... -3.38456165e+22\n",
      " -3.39850303e+22 -2.26196415e+22]\n",
      "(10000,)\n",
      "[2.40905095e+23 2.01984031e+23 2.21590369e+23 ... 2.42129388e+23\n",
      " 2.43126745e+23 1.61819476e+23]\n",
      "(10000,)\n",
      "[-1.72341972e+24 -1.44498091e+24 -1.58524341e+24 ... -1.73217824e+24\n",
      " -1.73931327e+24 -1.15764624e+24]\n",
      "(10000,)\n",
      "[1.23292351e+25 1.03373015e+25 1.13407305e+25 ... 1.23918929e+25\n",
      " 1.24429365e+25 8.28172755e+24]\n",
      "(10000,)\n",
      "[-8.82025634e+25 -7.39523975e+25 -8.11308645e+25 ... -8.86508137e+25\n",
      " -8.90159761e+25 -5.92469520e+25]\n",
      "(10000,)\n",
      "[6.30995528e+26 5.29050748e+26 5.80405044e+26 ... 6.34202282e+26\n",
      " 6.36814630e+26 4.23848926e+26]\n",
      "(10000,)\n",
      "[-4.51410187e+27 -3.78479539e+27 -4.15218076e+27 ... -4.53704278e+27\n",
      " -4.55573136e+27 -3.03218825e+27]\n",
      "(10000,)\n",
      "[3.22935976e+28 2.70761855e+28 2.97044370e+28 ... 3.24577154e+28\n",
      " 3.25914123e+28 2.16920819e+28]\n",
      "(10000,)\n",
      "[-2.31026343e+29 -1.93701309e+29 -2.12503653e+29 ... -2.32200431e+29\n",
      " -2.33156890e+29 -1.55183774e+29]\n",
      "(10000,)\n",
      "[1.65274776e+30 1.38572684e+30 1.52023762e+30 ... 1.66114712e+30\n",
      " 1.66798956e+30 1.11017485e+30]\n",
      "(10000,)\n",
      "[-1.18236523e+31 -9.91340166e+30 -1.08756832e+31 ... -1.18837408e+31\n",
      " -1.19326912e+31 -7.94212023e+30]\n",
      "(10000,)\n",
      "[8.45856568e+31 7.09198448e+31 7.78039457e+31 ... 8.50155257e+31\n",
      " 8.53657139e+31 5.68174229e+31]\n",
      "(10000,)\n",
      "[-6.05120408e+32 -5.07356059e+32 -5.56604478e+32 ... -6.08195663e+32\n",
      " -6.10700887e+32 -4.06468229e+32]\n",
      "(10000,)\n",
      "[4.32899290e+33 3.62959297e+33 3.98191303e+33 ... 4.35099308e+33\n",
      " 4.36891530e+33 2.90784786e+33]\n",
      "(10000,)\n",
      "[-3.09693398e+34 -2.59658772e+34 -2.84863525e+34 ... -3.11267277e+34\n",
      " -3.12549421e+34 -2.08025586e+34]\n",
      "(10000,)\n",
      "[2.21552687e+35 1.85758234e+35 2.03789554e+35 ... 2.22678630e+35\n",
      " 2.23595868e+35 1.48820181e+35]\n",
      "(10000,)\n",
      "[-1.58497383e+36 -1.32890259e+36 -1.45789750e+36 ... -1.59302875e+36\n",
      " -1.59959061e+36 -1.06465011e+36]\n",
      "(10000,)\n",
      "[1.13388020e+37 9.50688458e+36 1.04297060e+37 ... 1.13964264e+37\n",
      " 1.14433695e+37 7.61643913e+36]\n",
      "(10000,)\n",
      "[-8.11170679e+37 -6.80116475e+37 -7.46134533e+37 ... -8.15293093e+37\n",
      " -8.18651375e+37 -5.44875211e+37]\n",
      "(10000,)\n",
      "[5.80306344e+38 4.86551000e+38 5.33779899e+38 ... 5.83255492e+38\n",
      " 5.85657986e+38 3.89800260e+38]\n"
     ]
    }
   ],
   "source": [
    "# Train the model\n",
    "learning_rate = 1e-6\n",
    "epochs = 40\n",
    "weights,costs=gradient_descent(X_train, y_train, learning_rate, epochs)\n",
    "#print(costs)\n",
    "\n"
   ]
  },
  {
   "cell_type": "code",
   "execution_count": 22,
   "id": "875fe3b9",
   "metadata": {},
   "outputs": [],
   "source": [
    "# Predict on the test set\n",
    "y_pred_test = np.dot(X_test, weights)\n",
    "\n",
    "# Calculate regression metrics\n",
    "\n",
    "mse = np.mean((y_test - y_pred_test)**2)\n",
    "rmse = np.sqrt(mse)\n",
    "mae = np.mean(np.abs(y_test - y_pred_test))\n",
    "total_variance = np.sum((y_test - np.mean(y_test))**2)\n",
    "r_squared = 1 - (mse / total_variance)\n"
   ]
  },
  {
   "cell_type": "code",
   "execution_count": 23,
   "id": "d9ecea7c",
   "metadata": {},
   "outputs": [
    {
     "name": "stdout",
     "output_type": "stream",
     "text": [
      "Mean Squared Error (MSE): 1.2188671802485943e+79\n",
      "Root Mean Squared Error (RMSE): 3.491227835946251e+39\n",
      "Mean Absolute Error (MAE): 3.452765012294533e+39\n",
      "R-squared: -8.669356350189882e+65\n"
     ]
    }
   ],
   "source": [
    "# Print regression metrics\n",
    "print(f\"Mean Squared Error (MSE): {mse}\")\n",
    "print(f\"Root Mean Squared Error (RMSE): {rmse}\")\n",
    "print(f\"Mean Absolute Error (MAE): {mae}\")\n",
    "print(f\"R-squared: {r_squared}\")"
   ]
  },
  {
   "cell_type": "code",
   "execution_count": null,
   "id": "9998c604",
   "metadata": {},
   "outputs": [],
   "source": []
  }
 ],
 "metadata": {
  "kernelspec": {
   "display_name": "Python 3 (ipykernel)",
   "language": "python",
   "name": "python3"
  },
  "language_info": {
   "codemirror_mode": {
    "name": "ipython",
    "version": 3
   },
   "file_extension": ".py",
   "mimetype": "text/x-python",
   "name": "python",
   "nbconvert_exporter": "python",
   "pygments_lexer": "ipython3",
   "version": "3.9.13"
  }
 },
 "nbformat": 4,
 "nbformat_minor": 5
}
