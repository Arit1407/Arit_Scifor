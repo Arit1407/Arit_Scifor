{
 "cells": [
  {
   "cell_type": "code",
   "execution_count": 16,
   "id": "ccd1ba54",
   "metadata": {},
   "outputs": [],
   "source": [
    "import nltk\n",
    "from nltk.tokenize import word_tokenize, sent_tokenize\n",
    "from nltk.corpus import stopwords\n",
    "from nltk.sentiment.vader import SentimentIntensityAnalyzer\n",
    "from nltk import pos_tag\n",
    "\n",
    "# Ensure you have downloaded necessary NLTK data\n",
    "#nltk.download('punkt')\n",
    "#nltk.download('stopwords')\n",
    "#nltk.download('vader_lexicon')\n",
    "#nltk.download('averaged_perceptron_tagger')\n"
   ]
  },
  {
   "cell_type": "code",
   "execution_count": 5,
   "id": "d98280be",
   "metadata": {},
   "outputs": [],
   "source": [
    "# Sample paragraph\n",
    "paragraph = \"Natural language processing is a fascinating field of artificial intelligence. It enables machines to understand, interpret, and generate human language in a way that is both meaningful and useful. By combining computational linguistics with machine learning, NLP models can perform tasks such as sentiment analysis, language translation, and chatbot interactions. Despite the challenges, advancements in NLP are making significant strides, bringing us closer to seamless human-computer communication.\""
   ]
  },
  {
   "cell_type": "code",
   "execution_count": 6,
   "id": "e1070062",
   "metadata": {},
   "outputs": [],
   "source": [
    "# Tokenization\n",
    "sentences = sent_tokenize(paragraph)\n",
    "words = word_tokenize(paragraph)\n"
   ]
  },
  {
   "cell_type": "code",
   "execution_count": 7,
   "id": "5fcbddbf",
   "metadata": {},
   "outputs": [],
   "source": [
    "# Stop words removal\n",
    "stop_words = set(stopwords.words('english'))\n",
    "filtered_words = [word for word in words if word.lower() not in stop_words]"
   ]
  },
  {
   "cell_type": "code",
   "execution_count": 8,
   "id": "82ce8e90",
   "metadata": {},
   "outputs": [],
   "source": [
    "# POS Tagging\n",
    "pos_tags = pos_tag(filtered_words)\n"
   ]
  },
  {
   "cell_type": "code",
   "execution_count": 9,
   "id": "15dd8649",
   "metadata": {},
   "outputs": [],
   "source": [
    "# Sentiment Analysis\n",
    "sid = SentimentIntensityAnalyzer()\n",
    "sentiment = sid.polarity_scores(paragraph)"
   ]
  },
  {
   "cell_type": "code",
   "execution_count": 11,
   "id": "caf5a96d",
   "metadata": {},
   "outputs": [
    {
     "name": "stdout",
     "output_type": "stream",
     "text": [
      "Sentences:\n",
      "\n",
      " ['Natural language processing is a fascinating field of artificial intelligence.', 'It enables machines to understand, interpret, and generate human language in a way that is both meaningful and useful.', 'By combining computational linguistics with machine learning, NLP models can perform tasks such as sentiment analysis, language translation, and chatbot interactions.', 'Despite the challenges, advancements in NLP are making significant strides, bringing us closer to seamless human-computer communication.']\n"
     ]
    }
   ],
   "source": [
    "print(\"Sentences:\\n\\n\", sentences)"
   ]
  },
  {
   "cell_type": "code",
   "execution_count": 12,
   "id": "99cdcecf",
   "metadata": {},
   "outputs": [
    {
     "name": "stdout",
     "output_type": "stream",
     "text": [
      "Words:\n",
      "\n",
      " ['Natural', 'language', 'processing', 'is', 'a', 'fascinating', 'field', 'of', 'artificial', 'intelligence', '.', 'It', 'enables', 'machines', 'to', 'understand', ',', 'interpret', ',', 'and', 'generate', 'human', 'language', 'in', 'a', 'way', 'that', 'is', 'both', 'meaningful', 'and', 'useful', '.', 'By', 'combining', 'computational', 'linguistics', 'with', 'machine', 'learning', ',', 'NLP', 'models', 'can', 'perform', 'tasks', 'such', 'as', 'sentiment', 'analysis', ',', 'language', 'translation', ',', 'and', 'chatbot', 'interactions', '.', 'Despite', 'the', 'challenges', ',', 'advancements', 'in', 'NLP', 'are', 'making', 'significant', 'strides', ',', 'bringing', 'us', 'closer', 'to', 'seamless', 'human-computer', 'communication', '.']\n"
     ]
    }
   ],
   "source": [
    "print(\"Words:\\n\\n\", words)"
   ]
  },
  {
   "cell_type": "code",
   "execution_count": 13,
   "id": "597c33d2",
   "metadata": {},
   "outputs": [
    {
     "name": "stdout",
     "output_type": "stream",
     "text": [
      "Filtered Words:\n",
      "\n",
      " ['Natural', 'language', 'processing', 'fascinating', 'field', 'artificial', 'intelligence', '.', 'enables', 'machines', 'understand', ',', 'interpret', ',', 'generate', 'human', 'language', 'way', 'meaningful', 'useful', '.', 'combining', 'computational', 'linguistics', 'machine', 'learning', ',', 'NLP', 'models', 'perform', 'tasks', 'sentiment', 'analysis', ',', 'language', 'translation', ',', 'chatbot', 'interactions', '.', 'Despite', 'challenges', ',', 'advancements', 'NLP', 'making', 'significant', 'strides', ',', 'bringing', 'us', 'closer', 'seamless', 'human-computer', 'communication', '.']\n"
     ]
    }
   ],
   "source": [
    "print(\"Filtered Words:\\n\\n\", filtered_words)"
   ]
  },
  {
   "cell_type": "code",
   "execution_count": 14,
   "id": "3a2c67aa",
   "metadata": {},
   "outputs": [
    {
     "name": "stdout",
     "output_type": "stream",
     "text": [
      "POS Tags:\n",
      "\n",
      " [('Natural', 'JJ'), ('language', 'NN'), ('processing', 'VBG'), ('fascinating', 'JJ'), ('field', 'NN'), ('artificial', 'JJ'), ('intelligence', 'NN'), ('.', '.'), ('enables', 'NNS'), ('machines', 'NNS'), ('understand', 'RB'), (',', ','), ('interpret', 'NN'), (',', ','), ('generate', 'VBP'), ('human', 'JJ'), ('language', 'NN'), ('way', 'NN'), ('meaningful', 'JJ'), ('useful', 'JJ'), ('.', '.'), ('combining', 'VBG'), ('computational', 'JJ'), ('linguistics', 'NNS'), ('machine', 'NN'), ('learning', 'NN'), (',', ','), ('NLP', 'NNP'), ('models', 'NNS'), ('perform', 'VBP'), ('tasks', 'JJ'), ('sentiment', 'NN'), ('analysis', 'NN'), (',', ','), ('language', 'NN'), ('translation', 'NN'), (',', ','), ('chatbot', 'JJ'), ('interactions', 'NNS'), ('.', '.'), ('Despite', 'IN'), ('challenges', 'NNS'), (',', ','), ('advancements', 'NNS'), ('NLP', 'NNP'), ('making', 'VBG'), ('significant', 'JJ'), ('strides', 'NNS'), (',', ','), ('bringing', 'VBG'), ('us', 'PRP'), ('closer', 'JJR'), ('seamless', 'JJ'), ('human-computer', 'JJ'), ('communication', 'NN'), ('.', '.')]\n"
     ]
    }
   ],
   "source": [
    "print(\"POS Tags:\\n\\n\", pos_tags)"
   ]
  },
  {
   "cell_type": "code",
   "execution_count": 15,
   "id": "cf758d04",
   "metadata": {},
   "outputs": [
    {
     "name": "stdout",
     "output_type": "stream",
     "text": [
      "Sentiment Analysis:\n",
      "\n",
      " {'neg': 0.016, 'neu': 0.77, 'pos': 0.214, 'compound': 0.931}\n"
     ]
    }
   ],
   "source": [
    "print(\"Sentiment Analysis:\\n\\n\", sentiment)\n"
   ]
  },
  {
   "cell_type": "code",
   "execution_count": null,
   "id": "4930fb74",
   "metadata": {},
   "outputs": [],
   "source": []
  }
 ],
 "metadata": {
  "kernelspec": {
   "display_name": "Python 3 (ipykernel)",
   "language": "python",
   "name": "python3"
  },
  "language_info": {
   "codemirror_mode": {
    "name": "ipython",
    "version": 3
   },
   "file_extension": ".py",
   "mimetype": "text/x-python",
   "name": "python",
   "nbconvert_exporter": "python",
   "pygments_lexer": "ipython3",
   "version": "3.9.13"
  }
 },
 "nbformat": 4,
 "nbformat_minor": 5
}
