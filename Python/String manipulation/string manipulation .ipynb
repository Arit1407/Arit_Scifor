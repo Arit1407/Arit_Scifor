{
 "cells": [
  {
   "cell_type": "markdown",
   "id": "af7b8cf6",
   "metadata": {},
   "source": [
    "## 1.Write a Python program to find the length of the longest word in a sentence."
   ]
  },
  {
   "cell_type": "code",
   "execution_count": 2,
   "id": "e5199a89",
   "metadata": {},
   "outputs": [
    {
     "name": "stdout",
     "output_type": "stream",
     "text": [
      "Enter string : Hello I am Arit Kar\n",
      "The longest word in 'Hello I am Arit Kar' is 5 \n"
     ]
    }
   ],
   "source": [
    "def longest_word(st):\n",
    "    words=st.split()\n",
    "    max_length=0\n",
    "    for word in words:\n",
    "        if len(word)>max_length:\n",
    "            max_length=len(word)\n",
    "            \n",
    "    return max_length\n",
    "\n",
    "st=input(\"Enter string : \")\n",
    "longest=longest_word(st)\n",
    "print(f\"The length of the longest word in '{st}' is {longest} \")"
   ]
  },
  {
   "cell_type": "markdown",
   "id": "beec5757",
   "metadata": {},
   "source": [
    "## 2.Create a function that takes a sentence as input and returns the sentence in reverse order"
   ]
  },
  {
   "cell_type": "code",
   "execution_count": 10,
   "id": "3d8cce87",
   "metadata": {},
   "outputs": [
    {
     "name": "stdout",
     "output_type": "stream",
     "text": [
      "Enter string : Meta Scifor\n",
      "Scifor Meta\n"
     ]
    }
   ],
   "source": [
    "def reverse(st):\n",
    "    words=st.split()\n",
    "    rev=words[::-1]\n",
    "    rev_st=\" \".join(rev)\n",
    "    return rev_st\n",
    "st=input(\"Enter string : \")\n",
    "rever=reverse(st)\n",
    "print(rever)"
   ]
  },
  {
   "cell_type": "markdown",
   "id": "8fd7d8cb",
   "metadata": {},
   "source": [
    "## 3.Given a list of names, count the number of names that start with a vowel"
   ]
  },
  {
   "cell_type": "code",
   "execution_count": 12,
   "id": "f0f5cfca",
   "metadata": {},
   "outputs": [
    {
     "name": "stdout",
     "output_type": "stream",
     "text": [
      "The number of names that start with a vowel is 4\n"
     ]
    }
   ],
   "source": [
    "def count_name(lst):\n",
    "    vowel=\"AEIOUaeiou\"\n",
    "    count=0\n",
    "    for name in lst:\n",
    "        if name[0] in vowel:\n",
    "            count+=1\n",
    "    return count\n",
    "\n",
    "lst=['Arit','Rohit','abhishek','varun','Uday','ishu']\n",
    "count=count_name(lst)\n",
    "print(f\"The number of names that start with a vowel is {count}\")\n",
    "            \n",
    "    "
   ]
  },
  {
   "cell_type": "markdown",
   "id": "bf5b25c9",
   "metadata": {},
   "source": [
    "## 4.Write a function to remove all duplicate characters from a given string"
   ]
  },
  {
   "cell_type": "code",
   "execution_count": 21,
   "id": "f47ec327",
   "metadata": {},
   "outputs": [
    {
     "name": "stdout",
     "output_type": "stream",
     "text": [
      "Enter string : meditation\n",
      "meditaon\n"
     ]
    }
   ],
   "source": [
    "def remove_duplicate(st):\n",
    "    unique=[]\n",
    "    for char in st:\n",
    "        if char not in unique:\n",
    "            unique.append(char)\n",
    "    new_st=''.join(unique)\n",
    "    return new_st\n",
    "\n",
    "st=input(\"Enter string : \")\n",
    "new_string=remove_duplicate(st)\n",
    "print(new_string)"
   ]
  },
  {
   "cell_type": "markdown",
   "id": "bd6a3b52",
   "metadata": {},
   "source": [
    "## 5.Implement a program that takes a sentence and a word as input and checks if the word is present in the sentence.\n",
    "\n"
   ]
  },
  {
   "cell_type": "code",
   "execution_count": 25,
   "id": "b5caae95",
   "metadata": {},
   "outputs": [
    {
     "name": "stdout",
     "output_type": "stream",
     "text": [
      "Enter sentence : I am a Data Scientist\n",
      "Enter the word :Data\n",
      "word is in the sentence\n"
     ]
    }
   ],
   "source": [
    "def check(st,word):\n",
    "    words=st.split()\n",
    "    if word in words:\n",
    "        return True \n",
    "    return False\n",
    "st=input(\"Enter sentence : \")\n",
    "word=input(\"Enter the word :\")\n",
    "result=check(st,word)\n",
    "if result==True:\n",
    "    print(\"word is in the sentence\")\n",
    "else:\n",
    "    print(\"word is not in the sentence\")\n",
    "\n",
    "        "
   ]
  },
  {
   "cell_type": "code",
   "execution_count": null,
   "id": "f80e1435",
   "metadata": {},
   "outputs": [],
   "source": []
  }
 ],
 "metadata": {
  "kernelspec": {
   "display_name": "Python 3 (ipykernel)",
   "language": "python",
   "name": "python3"
  },
  "language_info": {
   "codemirror_mode": {
    "name": "ipython",
    "version": 3
   },
   "file_extension": ".py",
   "mimetype": "text/x-python",
   "name": "python",
   "nbconvert_exporter": "python",
   "pygments_lexer": "ipython3",
   "version": "3.9.13"
  }
 },
 "nbformat": 4,
 "nbformat_minor": 5
}
