{
 "cells": [
  {
   "cell_type": "markdown",
   "id": "60899f69",
   "metadata": {},
   "source": [
    "# Write a code in python to show all levels of inheritance \n"
   ]
  },
  {
   "cell_type": "code",
   "execution_count": 28,
   "id": "a8d2e758",
   "metadata": {},
   "outputs": [
    {
     "name": "stdout",
     "output_type": "stream",
     "text": [
      "Bruno says Woof!\n",
      "Tommy says Yip!\n",
      "Tommy says Woof!\n",
      "Cat sound: Meow\n",
      "Cat has fur: True\n",
      "Circle area: 78.5\n",
      "Square area: 16\n"
     ]
    },
    {
     "ename": "TypeError",
     "evalue": "__init__() missing 4 required positional arguments: 'model', 'battery_capacity', 'horsepower', and 'fuel_type'",
     "output_type": "error",
     "traceback": [
      "\u001b[1;31m---------------------------------------------------------------------------\u001b[0m",
      "\u001b[1;31mTypeError\u001b[0m                                 Traceback (most recent call last)",
      "\u001b[1;32m~\\AppData\\Local\\Temp\\ipykernel_18872\\1277455779.py\u001b[0m in \u001b[0;36m<module>\u001b[1;34m\u001b[0m\n\u001b[0;32m     73\u001b[0m \u001b[1;33m\u001b[0m\u001b[0m\n\u001b[0;32m     74\u001b[0m \u001b[1;31m# HybridCar inherits from Car, Engine, and Fuel, demonstrating hybrid inheritance\u001b[0m\u001b[1;33m\u001b[0m\u001b[1;33m\u001b[0m\u001b[0m\n\u001b[1;32m---> 75\u001b[1;33m \u001b[1;32mclass\u001b[0m \u001b[0mHybridCar\u001b[0m\u001b[1;33m(\u001b[0m\u001b[0mCar\u001b[0m\u001b[1;33m,\u001b[0m \u001b[0mEngine\u001b[0m\u001b[1;33m,\u001b[0m \u001b[0mFuel\u001b[0m\u001b[1;33m)\u001b[0m\u001b[1;33m:\u001b[0m\u001b[1;33m\u001b[0m\u001b[1;33m\u001b[0m\u001b[0m\n\u001b[0m\u001b[0;32m     76\u001b[0m     \u001b[1;32mdef\u001b[0m \u001b[0m__init__\u001b[0m\u001b[1;33m(\u001b[0m\u001b[0mself\u001b[0m\u001b[1;33m,\u001b[0m \u001b[0mbrand\u001b[0m\u001b[1;33m,\u001b[0m \u001b[0mmodel\u001b[0m\u001b[1;33m,\u001b[0m \u001b[0mbattery_capacity\u001b[0m\u001b[1;33m,\u001b[0m \u001b[0mhorsepower\u001b[0m\u001b[1;33m,\u001b[0m \u001b[0mfuel_type\u001b[0m\u001b[1;33m)\u001b[0m\u001b[1;33m:\u001b[0m\u001b[1;33m\u001b[0m\u001b[1;33m\u001b[0m\u001b[0m\n\u001b[0;32m     77\u001b[0m         \u001b[0mCar\u001b[0m\u001b[1;33m.\u001b[0m\u001b[0m__init__\u001b[0m\u001b[1;33m(\u001b[0m\u001b[0mself\u001b[0m\u001b[1;33m,\u001b[0m \u001b[0mbrand\u001b[0m\u001b[1;33m,\u001b[0m \u001b[0mmodel\u001b[0m\u001b[1;33m)\u001b[0m\u001b[1;33m\u001b[0m\u001b[1;33m\u001b[0m\u001b[0m\n",
      "\u001b[1;32m~\\AppData\\Local\\Temp\\ipykernel_18872\\1277455779.py\u001b[0m in \u001b[0;36mHybridCar\u001b[1;34m()\u001b[0m\n\u001b[0;32m    105\u001b[0m \u001b[1;33m\u001b[0m\u001b[0m\n\u001b[0;32m    106\u001b[0m     \u001b[1;31m# Hybrid Inheritance\u001b[0m\u001b[1;33m\u001b[0m\u001b[1;33m\u001b[0m\u001b[0m\n\u001b[1;32m--> 107\u001b[1;33m     \u001b[0mhybrid_car\u001b[0m \u001b[1;33m=\u001b[0m \u001b[0mHybridCar\u001b[0m\u001b[1;33m(\u001b[0m\u001b[1;34m\"Toyota\"\u001b[0m\u001b[1;33m,\u001b[0m \u001b[1;34m\"Prius\"\u001b[0m\u001b[1;33m,\u001b[0m \u001b[1;36m8.8\u001b[0m\u001b[1;33m,\u001b[0m \u001b[1;36m121\u001b[0m\u001b[1;33m,\u001b[0m \u001b[1;34m\"electric/gasoline\"\u001b[0m\u001b[1;33m)\u001b[0m\u001b[1;33m\u001b[0m\u001b[1;33m\u001b[0m\u001b[0m\n\u001b[0m\u001b[0;32m    108\u001b[0m     \u001b[0mprint\u001b[0m\u001b[1;33m(\u001b[0m\u001b[0mhybrid_car\u001b[0m\u001b[1;33m.\u001b[0m\u001b[0mstart\u001b[0m\u001b[1;33m(\u001b[0m\u001b[1;33m)\u001b[0m\u001b[1;33m)\u001b[0m\u001b[1;33m\u001b[0m\u001b[1;33m\u001b[0m\u001b[0m\n\u001b[0;32m    109\u001b[0m     \u001b[0mprint\u001b[0m\u001b[1;33m(\u001b[0m\u001b[0mhybrid_car\u001b[0m\u001b[1;33m.\u001b[0m\u001b[0mcharge\u001b[0m\u001b[1;33m(\u001b[0m\u001b[1;33m)\u001b[0m\u001b[1;33m)\u001b[0m\u001b[1;33m\u001b[0m\u001b[1;33m\u001b[0m\u001b[0m\n",
      "\u001b[1;32m~\\AppData\\Local\\Temp\\ipykernel_18872\\2982359426.py\u001b[0m in \u001b[0;36m__init__\u001b[1;34m(self, brand, model, battery_capacity, horsepower, fuel_type)\u001b[0m\n\u001b[0;32m     71\u001b[0m \u001b[1;32mclass\u001b[0m \u001b[0mHybridCar\u001b[0m\u001b[1;33m(\u001b[0m\u001b[0mCar\u001b[0m\u001b[1;33m,\u001b[0m \u001b[0mEngine\u001b[0m\u001b[1;33m,\u001b[0m \u001b[0mFuel\u001b[0m\u001b[1;33m)\u001b[0m\u001b[1;33m:\u001b[0m  \u001b[1;31m# Hybrid Inheritance: HybridCar inherits from Car, Engine, and Fuel\u001b[0m\u001b[1;33m\u001b[0m\u001b[1;33m\u001b[0m\u001b[0m\n\u001b[0;32m     72\u001b[0m     \u001b[1;32mdef\u001b[0m \u001b[0m__init__\u001b[0m\u001b[1;33m(\u001b[0m\u001b[0mself\u001b[0m\u001b[1;33m,\u001b[0m \u001b[0mbrand\u001b[0m\u001b[1;33m,\u001b[0m \u001b[0mmodel\u001b[0m\u001b[1;33m,\u001b[0m \u001b[0mbattery_capacity\u001b[0m\u001b[1;33m,\u001b[0m \u001b[0mhorsepower\u001b[0m\u001b[1;33m,\u001b[0m \u001b[0mfuel_type\u001b[0m\u001b[1;33m)\u001b[0m\u001b[1;33m:\u001b[0m\u001b[1;33m\u001b[0m\u001b[1;33m\u001b[0m\u001b[0m\n\u001b[1;32m---> 73\u001b[1;33m         \u001b[0mCar\u001b[0m\u001b[1;33m.\u001b[0m\u001b[0m__init__\u001b[0m\u001b[1;33m(\u001b[0m\u001b[0mself\u001b[0m\u001b[1;33m,\u001b[0m \u001b[0mbrand\u001b[0m\u001b[1;33m,\u001b[0m \u001b[0mmodel\u001b[0m\u001b[1;33m)\u001b[0m\u001b[1;33m\u001b[0m\u001b[1;33m\u001b[0m\u001b[0m\n\u001b[0m\u001b[0;32m     74\u001b[0m         \u001b[0mEngine\u001b[0m\u001b[1;33m.\u001b[0m\u001b[0m__init__\u001b[0m\u001b[1;33m(\u001b[0m\u001b[0mself\u001b[0m\u001b[1;33m,\u001b[0m \u001b[0mhorsepower\u001b[0m\u001b[1;33m)\u001b[0m\u001b[1;33m\u001b[0m\u001b[1;33m\u001b[0m\u001b[0m\n\u001b[0;32m     75\u001b[0m         \u001b[0mFuel\u001b[0m\u001b[1;33m.\u001b[0m\u001b[0m__init__\u001b[0m\u001b[1;33m(\u001b[0m\u001b[0mself\u001b[0m\u001b[1;33m,\u001b[0m \u001b[0mfuel_type\u001b[0m\u001b[1;33m)\u001b[0m\u001b[1;33m\u001b[0m\u001b[1;33m\u001b[0m\u001b[0m\n",
      "\u001b[1;32m~\\AppData\\Local\\Temp\\ipykernel_18872\\1277455779.py\u001b[0m in \u001b[0;36m__init__\u001b[1;34m(self, brand, model)\u001b[0m\n\u001b[0;32m     66\u001b[0m \u001b[1;32mclass\u001b[0m \u001b[0mCar\u001b[0m\u001b[1;33m(\u001b[0m\u001b[0mVehicle\u001b[0m\u001b[1;33m)\u001b[0m\u001b[1;33m:\u001b[0m  \u001b[1;31m# Car inherits from Vehicle\u001b[0m\u001b[1;33m\u001b[0m\u001b[1;33m\u001b[0m\u001b[0m\n\u001b[0;32m     67\u001b[0m     \u001b[1;32mdef\u001b[0m \u001b[0m__init__\u001b[0m\u001b[1;33m(\u001b[0m\u001b[0mself\u001b[0m\u001b[1;33m,\u001b[0m \u001b[0mbrand\u001b[0m\u001b[1;33m,\u001b[0m \u001b[0mmodel\u001b[0m\u001b[1;33m)\u001b[0m\u001b[1;33m:\u001b[0m\u001b[1;33m\u001b[0m\u001b[1;33m\u001b[0m\u001b[0m\n\u001b[1;32m---> 68\u001b[1;33m         \u001b[0mself\u001b[0m\u001b[1;33m.\u001b[0m\u001b[0m__init__\u001b[0m\u001b[1;33m(\u001b[0m\u001b[0mbrand\u001b[0m\u001b[1;33m)\u001b[0m\u001b[1;33m\u001b[0m\u001b[1;33m\u001b[0m\u001b[0m\n\u001b[0m\u001b[0;32m     69\u001b[0m         \u001b[0mself\u001b[0m\u001b[1;33m.\u001b[0m\u001b[0mmodel\u001b[0m \u001b[1;33m=\u001b[0m \u001b[0mmodel\u001b[0m\u001b[1;33m\u001b[0m\u001b[1;33m\u001b[0m\u001b[0m\n\u001b[0;32m     70\u001b[0m \u001b[1;33m\u001b[0m\u001b[0m\n",
      "\u001b[1;31mTypeError\u001b[0m: __init__() missing 4 required positional arguments: 'model', 'battery_capacity', 'horsepower', and 'fuel_type'"
     ]
    }
   ],
   "source": [
    "# Single Inheritance\n",
    "class Animal:\n",
    "    def __init__(self, name):\n",
    "        self.name = name\n",
    "class Dog(Animal):  # Single Inheritance: Dog inherits from Animal\n",
    "    def speak(self):\n",
    "        print(f\"{self.name} says Woof!\")\n",
    "    \n",
    "class Puppy(Dog,Animal): #Multiple Inheritance: Puppy inherits from both Dog and Animal\n",
    "    def speak(self):\n",
    "        print(f\"{self.name} says Yip!\")\n",
    "        super().speak()\n",
    "\n",
    "# Multilevel Inheritance\n",
    "class Mammal(Animal):\n",
    "    def has_fur(self):\n",
    "        return True\n",
    "\n",
    "class Cat(Mammal):\n",
    "    def sound(self):\n",
    "        return \"Meow\"\n",
    "\n",
    "# Hierarchical Inheritance\n",
    "class Shape:\n",
    "    def area(self):\n",
    "        pass\n",
    "\n",
    "class Circle(Shape):  # Hierarchical Inheritance: Circle inherits from Shape\n",
    "    def __init__(self, radius):\n",
    "        self.radius = radius\n",
    "\n",
    "    def area(self):\n",
    "        return 3.14 * self.radius * self.radius\n",
    "\n",
    "class Square(Shape):  # Hierarchical Inheritance: Square inherits from Shape\n",
    "    def __init__(self, side):\n",
    "        self.side = side\n",
    "\n",
    "    def area(self):\n",
    "        return self.side * self.side\n",
    "\n",
    "# Hybrid Inheritance (combination of different types)\n",
    "\n",
    "class Engine:\n",
    "    def __init__(self, horsepower):\n",
    "        self.horsepower = horsepower\n",
    "\n",
    "    def start(self):\n",
    "        return f\"Engine with {self.horsepower} HP starting\"\n",
    "\n",
    "class Fuel:\n",
    "    def __init__(self, fuel_type):\n",
    "        self.fuel_type = fuel_type\n",
    "\n",
    "    def refuel(self):\n",
    "        return f\"Refueling with {self.fuel_type}\"\n",
    "\n",
    "class Vehicle:\n",
    "    def __init__(self, brand):\n",
    "        self.brand = brand\n",
    "\n",
    "    def start(self):\n",
    "        return f\"{self.brand} vehicle starting\"\n",
    "\n",
    "# Derived class using multilevel inheritance\n",
    "class Car(Vehicle):  # Car inherits from Vehicle\n",
    "    def __init__(self, brand, model):\n",
    "        self.__init__(brand)\n",
    "        self.model = model\n",
    "\n",
    "    def drive(self):\n",
    "        return f\"Driving {self.brand} {self.model}\"\n",
    "\n",
    "# HybridCar inherits from Car, Engine, and Fuel, demonstrating hybrid inheritance\n",
    "class HybridCar(Car, Engine, Fuel):\n",
    "    def __init__(self, brand, model, battery_capacity, horsepower, fuel_type):\n",
    "        Car.__init__(self, brand, model)\n",
    "        Engine.__init__(self, horsepower)\n",
    "        Fuel.__init__(self, fuel_type)\n",
    "        self.battery_capacity = battery_capacity\n",
    "\n",
    "    def charge(self):\n",
    "        return f\"Charging {self.brand} {self.model} with {self.battery_capacity}kWh battery\"\n",
    "\n",
    "    def start(self):\n",
    "        return f\"{self.brand} {self.model} with {self.horsepower} HP engine starting\"\n",
    "\n",
    "\n",
    "# Single Inheritance\n",
    "    dog = Dog(\"Bruno\")\n",
    "    dog.speak()\n",
    "# Multiple Inheritance\n",
    "    puppy=Puppy(\"Tommy\")\n",
    "    puppy.speak()\n",
    "# Multilevel Inheritance\n",
    "    cat = Cat(\"Ronny\")\n",
    "    print(\"Cat sound:\", cat.sound())\n",
    "    print(\"Cat has fur:\", cat.has_fur())\n",
    "# Hierarchical Inheritance\n",
    "    circle = Circle(5)\n",
    "    print(f\"Circle area: {circle.area()}\")\n",
    "\n",
    "    square = Square(4)\n",
    "    print(f\"Square area: {square.area()}\")\n",
    "    \n",
    "    # Hybrid Inheritance\n",
    "    hybrid_car = HybridCar(\"Toyota\", \"Prius\", 8.8, 121, \"electric/gasoline\")\n",
    "    print(hybrid_car.start()) \n",
    "    print(hybrid_car.charge()) \n",
    "    print(hybrid_car.refuel()) "
   ]
  },
  {
   "cell_type": "markdown",
   "id": "c0131aa7",
   "metadata": {},
   "source": [
    "# Write a code of Method Overloading \n"
   ]
  },
  {
   "cell_type": "code",
   "execution_count": 26,
   "id": "e47c786e",
   "metadata": {},
   "outputs": [
    {
     "name": "stdout",
     "output_type": "stream",
     "text": [
      "3\n",
      "Hello World\n",
      "Hello5\n"
     ]
    }
   ],
   "source": [
    "class Calculator:\n",
    "    def add(self, a, b):\n",
    "        if isinstance(a, str) or isinstance(b, str):\n",
    "            return str(a) + str(b)\n",
    "        else:\n",
    "            return a + b\n",
    "\n",
    "# Testing method overloading using type checks\n",
    "calc = Calculator()\n",
    "print(calc.add(1, 2))        # Output: 3\n",
    "print(calc.add('Hello', ' World'))  # Output: Hello World\n",
    "print(calc.add('Hello', 5))  # Output: Hello5\n"
   ]
  },
  {
   "cell_type": "markdown",
   "id": "ca2d4b91",
   "metadata": {},
   "source": [
    "# Write a code of Method Overriding"
   ]
  },
  {
   "cell_type": "code",
   "execution_count": 27,
   "id": "1048cb98",
   "metadata": {},
   "outputs": [
    {
     "name": "stdout",
     "output_type": "stream",
     "text": [
      "Animal speaks\n",
      "Dog barks\n",
      "Cat meows\n"
     ]
    }
   ],
   "source": [
    "# Base class\n",
    "class Animal:\n",
    "    def speak(self):\n",
    "        return \"Animal speaks\"\n",
    "\n",
    "# Derived class\n",
    "class Dog(Animal):\n",
    "    def speak(self):\n",
    "        return \"Dog barks\"\n",
    "\n",
    "# Another derived class\n",
    "class Cat(Animal):\n",
    "    def speak(self):\n",
    "        return \"Cat meows\"\n",
    "\n",
    "# Testing method overriding\n",
    "if __name__ == \"__main__\":\n",
    "    generic_animal = Animal()\n",
    "    dog = Dog()\n",
    "    cat = Cat()\n",
    "\n",
    "    print(generic_animal.speak())  # Output: Animal speaks\n",
    "    print(dog.speak())             # Output: Dog barks\n",
    "    print(cat.speak())             # Output: Cat meows\n"
   ]
  }
 ],
 "metadata": {
  "kernelspec": {
   "display_name": "Python 3 (ipykernel)",
   "language": "python",
   "name": "python3"
  },
  "language_info": {
   "codemirror_mode": {
    "name": "ipython",
    "version": 3
   },
   "file_extension": ".py",
   "mimetype": "text/x-python",
   "name": "python",
   "nbconvert_exporter": "python",
   "pygments_lexer": "ipython3",
   "version": "3.9.13"
  }
 },
 "nbformat": 4,
 "nbformat_minor": 5
}
