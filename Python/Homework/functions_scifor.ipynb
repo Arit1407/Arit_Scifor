{
 "cells": [
  {
   "cell_type": "markdown",
   "id": "662216c9",
   "metadata": {},
   "source": [
    "# Write a program to display all prime numbers within a range"
   ]
  },
  {
   "cell_type": "code",
   "execution_count": 3,
   "id": "b5ac0ca8",
   "metadata": {},
   "outputs": [
    {
     "name": "stdout",
     "output_type": "stream",
     "text": [
      "enter the number : 02\n",
      "enter the number : 10\n",
      "2 3 5 7 "
     ]
    }
   ],
   "source": [
    "def prime(n):\n",
    "    if n<=1:\n",
    "        return False\n",
    "    else:\n",
    "        l1=[]\n",
    "        for i in range(1,n+1):\n",
    "            if n%i==0:\n",
    "                l1.append(i)\n",
    "        if len(l1)<=2:\n",
    "            return True\n",
    "        else:\n",
    "            return False\n",
    "\n",
    "inp1=int(input(\"enter the number : \"))\n",
    "inp2=int(input(\"enter the number : \"))\n",
    "for i in range(inp1,inp2+1):\n",
    "    if prime(i)==True:\n",
    "        print(i,end=\" \")"
   ]
  },
  {
   "cell_type": "markdown",
   "id": "e9b5f65b",
   "metadata": {},
   "source": [
    "# Search the element in a list at which position using binary search approach "
   ]
  },
  {
   "cell_type": "code",
   "execution_count": 12,
   "id": "c209357e",
   "metadata": {},
   "outputs": [
    {
     "name": "stdout",
     "output_type": "stream",
     "text": [
      "Enter the search element : 40\n",
      "Element is present at index 2\n"
     ]
    }
   ],
   "source": [
    "def binary_search(lst,low,high,x):\n",
    "    if high>=low:\n",
    "        mid=(high + low)//2\n",
    "        if lst[mid]==x:\n",
    "            return mid\n",
    "        elif lst[mid]>x:\n",
    "            return binary_search(lst,low,mid-1,x)\n",
    "        else:\n",
    "            return binary_search(lst, mid+1, high, x)\n",
    "    else:\n",
    "        return -1\n",
    "\n",
    "lst=[10,20,40,50,60]\n",
    "x=int(input(\"Enter the search element : \"))\n",
    "result = binary_search(lst, 0, len(lst)-1, x)\n",
    "if result != -1:\n",
    "    print(f\"Element is present at index {str(result)}\")\n",
    "else:\n",
    "    print(\"Element is not present in array\")"
   ]
  },
  {
   "cell_type": "markdown",
   "id": "2953de0b",
   "metadata": {},
   "source": [
    "# Password validation in Python"
   ]
  },
  {
   "cell_type": "markdown",
   "id": "47ffc4c3",
   "metadata": {},
   "source": [
    "### Let’s take a password as a combination of alphanumeric characters along with special characters, and check whether the password is valid or not with the help of few conditions. Conditions for a valid password are:\n",
    "\n",
    "1.Should have at least one number.\n",
    "\n",
    "2.Should have at least one uppercase and one lowercase character.\n",
    "\n",
    "3.Should have at least one special symbol.\n",
    "\n",
    "4.Should be between 6 to 20 characters long.\n"
   ]
  },
  {
   "cell_type": "code",
   "execution_count": null,
   "id": "617174dc",
   "metadata": {},
   "outputs": [],
   "source": [
    "def password_check(passwd):\n",
    "    SpecialSym =['$', '@', '#', '%']\n",
    "    val = True\n",
    "    if len(passwd) < 6:\n",
    "        print('length should be at least 6')\n",
    "        val = False\n",
    "    if len(passwd) > 20:\n",
    "        print('length should be not be greater than 8')\n",
    "        val = False\n",
    "\n",
    "# Check if password contains at least one digit, uppercase letter, lowercase letter, and special symbol\n",
    "    has_digit = False\n",
    "    has_upper = False\n",
    "    has_lower = False\n",
    "    has_sym = False\n",
    "    for char in passwd:\n",
    "        if ord(char) >= 48 and ord(char) <= 57:\n",
    "            has_digit = True\n",
    "        elif ord(char) >= 65 and ord(char) <= 90:\n",
    "            has_upper = True\n",
    "        elif ord(char) >= 97 and ord(char) <= 122:\n",
    "            has_lower = True\n",
    "        elif char in SpecialSym:\n",
    "            has_sym = True\n",
    "\n",
    "    if not has_digit:\n",
    "        print('Password should have at least one numeral')\n",
    "        val = False\n",
    "    if not has_upper:\n",
    "        print('Password should have at least one uppercase letter')\n",
    "        val = False\n",
    "    if not has_lower:\n",
    "        print('Password should have at least one lowercase letter')\n",
    "        val = False\n",
    "    if not has_sym:\n",
    "        print('Password should have at least one of the symbols $@#')\n",
    "        val = False\n",
    "\n",
    "    return val\n",
    "print(password_check('Geek12@'))\n",
    "print(password_check('asd123')) \n",
    "print(password_check('HELLOworld')) \n",
    "print(password_check('helloWORLD123@'))\n",
    "print(password_check('HelloWORLD123')) \n"
   ]
  }
 ],
 "metadata": {
  "kernelspec": {
   "display_name": "Python 3 (ipykernel)",
   "language": "python",
   "name": "python3"
  },
  "language_info": {
   "codemirror_mode": {
    "name": "ipython",
    "version": 3
   },
   "file_extension": ".py",
   "mimetype": "text/x-python",
   "name": "python",
   "nbconvert_exporter": "python",
   "pygments_lexer": "ipython3",
   "version": "3.9.13"
  }
 },
 "nbformat": 4,
 "nbformat_minor": 5
}
