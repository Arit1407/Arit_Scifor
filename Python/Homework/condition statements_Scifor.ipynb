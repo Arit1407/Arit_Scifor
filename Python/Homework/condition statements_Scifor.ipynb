{
 "cells": [
  {
   "cell_type": "markdown",
   "id": "3e882b80",
   "metadata": {},
   "source": [
    "# Create a new list from a two list using the following condition. Given a two list ofnumbers, write a program to create a new list such that the new list should contain odd numbers from the first list and even numbers from the second list."
   ]
  },
  {
   "cell_type": "code",
   "execution_count": 2,
   "id": "2fc36648",
   "metadata": {},
   "outputs": [
    {
     "name": "stdout",
     "output_type": "stream",
     "text": [
      "[1, 3, 5, 6, 8, 10]\n"
     ]
    }
   ],
   "source": [
    "l1=[1,2,3,4,5]\n",
    "l2=[6,7,8,9,10]\n",
    "l3=[]\n",
    "for i in l1:\n",
    "    if i%2!=0:\n",
    "        l3.append(i)\n",
    "for i in l2:\n",
    "    if i%2==0:\n",
    "        l3.append(i)\n",
    "print(l3)"
   ]
  },
  {
   "cell_type": "markdown",
   "id": "eac075ef",
   "metadata": {},
   "source": [
    "# Write a program that take a user input of three angles and will find out whether it can form a triangle or not.\n"
   ]
  },
  {
   "cell_type": "code",
   "execution_count": 5,
   "id": "d57e9184",
   "metadata": {},
   "outputs": [
    {
     "name": "stdout",
     "output_type": "stream",
     "text": [
      "1st angle of triangle: 45\n",
      "2nd angle of triangle: 45\n",
      "3rd angle of triangle: 90\n",
      "yes it can form a triangle\n"
     ]
    }
   ],
   "source": [
    "# since sum of all the angle of trianle is 180 deg\n",
    "a=float(input(\"1st angle of triangle: \"))\n",
    "b=float(input(\"2nd angle of triangle: \"))\n",
    "c=float(input(\"3rd angle of triangle: \"))\n",
    "if (a+b+c)==180 and a!=0 and b!=0 and c!=0:\n",
    "    print(\"yes it can form a triangle\")\n",
    "else:\n",
    "    print(\"No it cant form a triangle\")"
   ]
  },
  {
   "cell_type": "markdown",
   "id": "1f4d633b",
   "metadata": {},
   "source": [
    "# Write a program to check if the given number is a palindrome number.\n"
   ]
  },
  {
   "cell_type": "code",
   "execution_count": 6,
   "id": "6f13c8e6",
   "metadata": {},
   "outputs": [
    {
     "name": "stdout",
     "output_type": "stream",
     "text": [
      "enter the number: 151\n",
      "151\n",
      "the given number is palindrom\n"
     ]
    }
   ],
   "source": [
    "n=input(\"enter the number: \")\n",
    "rev_number=n[::-1]\n",
    "print(rev_number)\n",
    "if n==rev_number:\n",
    "    print(\"the given number is palindrom\")\n",
    "else:\n",
    "    print(\"the given number is not palindrom\")"
   ]
  }
 ],
 "metadata": {
  "kernelspec": {
   "display_name": "Python 3 (ipykernel)",
   "language": "python",
   "name": "python3"
  },
  "language_info": {
   "codemirror_mode": {
    "name": "ipython",
    "version": 3
   },
   "file_extension": ".py",
   "mimetype": "text/x-python",
   "name": "python",
   "nbconvert_exporter": "python",
   "pygments_lexer": "ipython3",
   "version": "3.9.13"
  }
 },
 "nbformat": 4,
 "nbformat_minor": 5
}
