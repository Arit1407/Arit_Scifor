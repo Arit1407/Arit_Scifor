{
 "cells": [
  {
   "cell_type": "code",
   "execution_count": 1,
   "id": "5c141b4b",
   "metadata": {},
   "outputs": [
    {
     "name": "stdout",
     "output_type": "stream",
     "text": [
      "Inside GrandChild\n",
      "Inside Parent\n"
     ]
    }
   ],
   "source": [
    "class Parent(): \n",
    "    def display(self): \n",
    "        print(\"Inside Parent\") \n",
    "        \n",
    "class Child(Parent):  \n",
    "    def show(self): \n",
    "        print(\"Inside Child\") \n",
    "        \n",
    "class GrandChild(Child): \n",
    "    def show(self): \n",
    "        print(\"Inside GrandChild\")\n",
    "        \n",
    "g = GrandChild() \n",
    "g.show() \n",
    "g.display() \n"
   ]
  }
 ],
 "metadata": {
  "kernelspec": {
   "display_name": "Python 3 (ipykernel)",
   "language": "python",
   "name": "python3"
  },
  "language_info": {
   "codemirror_mode": {
    "name": "ipython",
    "version": 3
   },
   "file_extension": ".py",
   "mimetype": "text/x-python",
   "name": "python",
   "nbconvert_exporter": "python",
   "pygments_lexer": "ipython3",
   "version": "3.9.13"
  }
 },
 "nbformat": 4,
 "nbformat_minor": 5
}
