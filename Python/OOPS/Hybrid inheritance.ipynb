{
 "cells": [
  {
   "cell_type": "code",
   "execution_count": 1,
   "id": "642e22c0",
   "metadata": {},
   "outputs": [
    {
     "name": "stdout",
     "output_type": "stream",
     "text": [
      "Buddy says Woof!\n",
      "Fluffy says Yip!\n",
      "Sky says Woof!\n",
      "Sky can fly\n",
      "Wings says Yip!\n",
      "Wings can fly\n"
     ]
    }
   ],
   "source": [
    "#Hybrid Inheritance = combination multiple inheritance + multi-level inheritance\n",
    "\n",
    "# Base class / name - attribute\n",
    "class Animal:\n",
    "    def __init__(self, name):\n",
    "        self.name = name\n",
    "\n",
    "    def speak(self):\n",
    "        print(f\"{self.name} makes a sound\")\n",
    "\n",
    "# Single inheritance\n",
    "class Dog(Animal):\n",
    "    def speak(self):\n",
    "        print(f\"{self.name} says Woof!\")\n",
    "\n",
    "# Multilevel inheritance\n",
    "class Puppy(Dog):\n",
    "    def speak(self):\n",
    "        print(f\"{self.name} says Yip!\")\n",
    "\n",
    "# Another base class\n",
    "class Bird:\n",
    "    def __init__(self, name):\n",
    "        self.name = name\n",
    "\n",
    "    def fly(self):\n",
    "        print(f\"{self.name} can fly\")\n",
    "\n",
    "# Multiple inheritance\n",
    "#FLYING DOG - BASE CLASS OR PARENT = INHERITED FROM DOG AND BIRD\n",
    "class FlyingDog(Dog, Bird):\n",
    "    def __init__(self, name):\n",
    "        Dog.__init__(self, name)\n",
    "        Bird.__init__(self, name)\n",
    "\n",
    "    def speak(self):\n",
    "        Dog.speak(self)\n",
    "        Bird.fly(self)\n",
    "\n",
    "# Hybrid inheritance\n",
    "class FlyingPuppy(Puppy, Bird):\n",
    "    def __init__(self, name):\n",
    "        Puppy.__init__(self, name)\n",
    "        Bird.__init__(self, name)\n",
    "\n",
    "    def speak(self):\n",
    "        Puppy.speak(self)\n",
    "        Bird.fly(self)\n",
    "\n",
    "# Create instances\n",
    "dog = Dog(\"Buddy\")\n",
    "puppy = Puppy(\"Fluffy\")\n",
    "flying_dog = FlyingDog(\"Sky\")\n",
    "flying_puppy = FlyingPuppy(\"Wings\")\n",
    "\n",
    "# Test the methods\n",
    "dog.speak()             # Output: Buddy says Woof!\n",
    "puppy.speak()           # Output: Fluffy says Yip!\n",
    "flying_dog.speak()      # Output: Sky says Woof! \\n Sky can fly\n",
    "flying_puppy.speak()\n",
    "\n"
   ]
  }
 ],
 "metadata": {
  "kernelspec": {
   "display_name": "Python 3 (ipykernel)",
   "language": "python",
   "name": "python3"
  },
  "language_info": {
   "codemirror_mode": {
    "name": "ipython",
    "version": 3
   },
   "file_extension": ".py",
   "mimetype": "text/x-python",
   "name": "python",
   "nbconvert_exporter": "python",
   "pygments_lexer": "ipython3",
   "version": "3.9.13"
  }
 },
 "nbformat": 4,
 "nbformat_minor": 5
}
