{
 "cells": [
  {
   "cell_type": "code",
   "execution_count": 2,
   "id": "8d893dea",
   "metadata": {},
   "outputs": [
    {
     "name": "stdout",
     "output_type": "stream",
     "text": [
      "The name of student is Rahul\n",
      "The student id of student is 12\n"
     ]
    }
   ],
   "source": [
    "class Student:\n",
    "    def __init__(self,name,stud_id):\n",
    "        self.name=name\n",
    "        self.__stud_id=stud_id   # private data member which ensures data intergration and modulation\n",
    "    def display(self):\n",
    "        print(f\"The name of student is {self.name}\")\n",
    "        print(f\"The student id of student is {self.__stud_id}\")\n",
    "\n",
    "#main.....................................................................................................\n",
    "student1=Student(\"Rahul\",12)\n",
    "student1.display()"
   ]
  },
  {
   "cell_type": "code",
   "execution_count": null,
   "id": "dcb34a2d",
   "metadata": {},
   "outputs": [],
   "source": []
  }
 ],
 "metadata": {
  "kernelspec": {
   "display_name": "Python 3 (ipykernel)",
   "language": "python",
   "name": "python3"
  },
  "language_info": {
   "codemirror_mode": {
    "name": "ipython",
    "version": 3
   },
   "file_extension": ".py",
   "mimetype": "text/x-python",
   "name": "python",
   "nbconvert_exporter": "python",
   "pygments_lexer": "ipython3",
   "version": "3.9.13"
  }
 },
 "nbformat": 4,
 "nbformat_minor": 5
}
