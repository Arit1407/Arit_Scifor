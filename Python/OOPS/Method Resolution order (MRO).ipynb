{
 "cells": [
  {
   "cell_type": "markdown",
   "id": "73b88c35",
   "metadata": {},
   "source": [
    "## The Method Resolution Order (MRO) is crucial when dealing with multiple inheritance. It defines the sequence in which Python searches for methods and attributes in a class hierarchy. The MRO is determined using the C3 Linearization algorithm, which maintains a consistent and predictable order.\n",
    "\n",
    "## To view the MRO of a class, you can use the mro() method or the .__mro__ attribute. For instance, if you have a class Derived that inherits from multiple parent classes, you can obtain its MRO by calling Derived.mro() or accessing Derived.__mro__."
   ]
  },
  {
   "cell_type": "markdown",
   "id": "9113e017",
   "metadata": {},
   "source": [
    "## The super() function plays a vital role in managing multiple inheritance scenarios. It allows you to call a method from a parent class in a way that respects the MRO. By using super(), you ensure that the method from the appropriate parent class is invoked"
   ]
  },
  {
   "cell_type": "code",
   "execution_count": 2,
   "id": "ac3e9618",
   "metadata": {},
   "outputs": [
    {
     "name": "stdout",
     "output_type": "stream",
     "text": [
      "D\n",
      "B\n",
      "C\n",
      "A\n"
     ]
    }
   ],
   "source": [
    "class A:\n",
    "    def show(self):\n",
    "        print(\"A\")\n",
    "\n",
    "class B(A):\n",
    "    def show(self):\n",
    "        print(\"B\")\n",
    "        super().show()\n",
    "        \n",
    "\n",
    "class C(A):\n",
    "    def show(self):\n",
    "        print(\"C\")\n",
    "        super().show()\n",
    "        \n",
    "\n",
    "class D(B, C):\n",
    "    def show(self):\n",
    "        print(\"D\")\n",
    "        super().show()\n",
    "        \n",
    "\n",
    "obj = D()\n",
    "obj.show()"
   ]
  }
 ],
 "metadata": {
  "kernelspec": {
   "display_name": "Python 3 (ipykernel)",
   "language": "python",
   "name": "python3"
  },
  "language_info": {
   "codemirror_mode": {
    "name": "ipython",
    "version": 3
   },
   "file_extension": ".py",
   "mimetype": "text/x-python",
   "name": "python",
   "nbconvert_exporter": "python",
   "pygments_lexer": "ipython3",
   "version": "3.9.13"
  }
 },
 "nbformat": 4,
 "nbformat_minor": 5
}
